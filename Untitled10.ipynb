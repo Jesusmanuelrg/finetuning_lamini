{
  "nbformat": 4,
  "nbformat_minor": 0,
  "metadata": {
    "colab": {
      "provenance": []
    },
    "kernelspec": {
      "name": "python3",
      "display_name": "Python 3"
    },
    "language_info": {
      "name": "python"
    }
  },
  "cells": [
    {
      "cell_type": "code",
      "source": [
        "pip install -qU lamini datasets pandas transformers"
      ],
      "metadata": {
        "id": "loDVVfNF4u7i"
      },
      "execution_count": null,
      "outputs": []
    },
    {
      "cell_type": "code",
      "source": [
        "import pandas as pd\n",
        "import datasets\n",
        "\n",
        "from pprint import pprint\n",
        "from transformers import AutoTokenizer"
      ],
      "metadata": {
        "id": "uSCW-BLQ4uxm"
      },
      "execution_count": null,
      "outputs": []
    },
    {
      "cell_type": "code",
      "source": [
        "import lamini\n",
        "from lamini import Lamini\n",
        "import json\n",
        "\n",
        "lamini.api_key = \"API KEY\"\n",
        "llm = lamini.Lamini(\"EleutherAI/pythia-410m\")"
      ],
      "metadata": {
        "id": "TrjMF03WXVye"
      },
      "execution_count": 22,
      "outputs": []
    },
    {
      "cell_type": "code",
      "source": [
        "file_path = '/content/sql_data.json'\n",
        "\n",
        "with open(file_path, 'r') as f:\n",
        "    json_array = json.load(f)"
      ],
      "metadata": {
        "id": "wrEpiEYebDRw"
      },
      "execution_count": 16,
      "outputs": []
    },
    {
      "cell_type": "code",
      "source": [
        "llm = Lamini(model_name=\"EleutherAI/pythia-410m\")\n",
        "\n",
        "dataset = json_array\n",
        "\n",
        "llm.train(\n",
        "    data_or_dataset_id=dataset,\n",
        "    finetune_args={\n",
        "        \"max_steps\": 300,\n",
        "        \"early_stopping\": False,\n",
        "        \"load_best_model_at_end\": False,\n",
        "    },\n",
        ")"
      ],
      "metadata": {
        "id": "HFyE2e1PbBXX"
      },
      "execution_count": null,
      "outputs": []
    },
    {
      "cell_type": "code",
      "source": [
        "llm = lamini.Lamini(model_name=\"EleutherAI/pythia-410m\")\n",
        "\n",
        "print(llm.generate(\"How can I retrieve the names of employees who have the highest average performance score in their department and also attended at least three training sessions in SQL?\", output_type={\"Response\":\"str\"}))"
      ],
      "metadata": {
        "id": "P56GDAuqc4P-"
      },
      "execution_count": null,
      "outputs": []
    }
  ]
}